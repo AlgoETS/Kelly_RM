{
 "cells": [
  {
   "attachments": {},
   "cell_type": "markdown",
   "metadata": {},
   "source": [
    "# 💡 STRATEGY"
   ]
  },
  {
   "attachments": {},
   "cell_type": "markdown",
   "metadata": {},
   "source": [
    "# Description\n",
    "\n",
    "Make Money 💵\n",
    "\n",
    "## Rules\n",
    "\n",
    "1. Buy when the price is below the day moving average\n",
    "2. Sell when the price is above the day moving average\n",
    "\n",
    "## Indicators\n",
    "\n",
    "1. Day moving average\n"
   ]
  },
  {
   "attachments": {},
   "cell_type": "markdown",
   "metadata": {},
   "source": [
    "Steps:\n",
    "1. Load the prices for the stocks\n",
    "2. Preprocess the data used in the strategy\n",
    "3. Combine the indicators into a single dataframe and add the strategy\n",
    "3. Create the backtest class and run the backtest\n",
    "4. Save the results into a pdf file in the output folder"
   ]
  },
  {
   "attachments": {},
   "cell_type": "markdown",
   "metadata": {},
   "source": [
    "# Install"
   ]
  },
  {
   "cell_type": "code",
   "execution_count": 1,
   "metadata": {},
   "outputs": [],
   "source": [
    "# import library\n",
    "import pandas as pd\n",
    "import numpy as np"
   ]
  },
  {
   "attachments": {},
   "cell_type": "markdown",
   "metadata": {},
   "source": [
    "## Load the prices"
   ]
  },
  {
   "cell_type": "code",
   "execution_count": 6,
   "metadata": {},
   "outputs": [],
   "source": [
    "import sys\n",
    "import os\n",
    "os.chdir('../')\n",
    "import  src.data as data \n",
    "\n",
    "#Get the list of symbols\n",
    "data_downloaded = await data.get_historical_price_full_crypto(\"BTCUSD\")\n",
    "historical=data_downloaded['historical']"
   ]
  },
  {
   "attachments": {},
   "cell_type": "markdown",
   "metadata": {},
   "source": [
    "## Preprocess the data used in the strategy"
   ]
  },
  {
   "cell_type": "code",
   "execution_count": 7,
   "metadata": {},
   "outputs": [
    {
     "data": {
      "text/html": [
       "<div>\n",
       "<style scoped>\n",
       "    .dataframe tbody tr th:only-of-type {\n",
       "        vertical-align: middle;\n",
       "    }\n",
       "\n",
       "    .dataframe tbody tr th {\n",
       "        vertical-align: top;\n",
       "    }\n",
       "\n",
       "    .dataframe thead th {\n",
       "        text-align: right;\n",
       "    }\n",
       "</style>\n",
       "<table border=\"1\" class=\"dataframe\">\n",
       "  <thead>\n",
       "    <tr style=\"text-align: right;\">\n",
       "      <th></th>\n",
       "      <th>Open</th>\n",
       "      <th>High</th>\n",
       "      <th>Low</th>\n",
       "      <th>Close</th>\n",
       "      <th>Volume</th>\n",
       "    </tr>\n",
       "    <tr>\n",
       "      <th>Date</th>\n",
       "      <th></th>\n",
       "      <th></th>\n",
       "      <th></th>\n",
       "      <th></th>\n",
       "      <th></th>\n",
       "    </tr>\n",
       "  </thead>\n",
       "  <tbody>\n",
       "    <tr>\n",
       "      <th>2018-03-17</th>\n",
       "      <td>8321.910156</td>\n",
       "      <td>8346.530273</td>\n",
       "      <td>7812.819824</td>\n",
       "      <td>7916.879883</td>\n",
       "      <td>4426149888</td>\n",
       "    </tr>\n",
       "    <tr>\n",
       "      <th>2018-03-18</th>\n",
       "      <td>7890.520019</td>\n",
       "      <td>8245.509766</td>\n",
       "      <td>7397.990234</td>\n",
       "      <td>8223.679688</td>\n",
       "      <td>6639190016</td>\n",
       "    </tr>\n",
       "    <tr>\n",
       "      <th>2018-03-19</th>\n",
       "      <td>8344.120117</td>\n",
       "      <td>8675.870117</td>\n",
       "      <td>8182.399902</td>\n",
       "      <td>8630.650391</td>\n",
       "      <td>6729110016</td>\n",
       "    </tr>\n",
       "    <tr>\n",
       "      <th>2018-03-20</th>\n",
       "      <td>8619.669922</td>\n",
       "      <td>9051.019531</td>\n",
       "      <td>8389.889648</td>\n",
       "      <td>8913.469727</td>\n",
       "      <td>6361789952</td>\n",
       "    </tr>\n",
       "    <tr>\n",
       "      <th>2018-03-21</th>\n",
       "      <td>8937.480469</td>\n",
       "      <td>9177.370117</td>\n",
       "      <td>8846.330078</td>\n",
       "      <td>8929.280273</td>\n",
       "      <td>6043129856</td>\n",
       "    </tr>\n",
       "    <tr>\n",
       "      <th>...</th>\n",
       "      <td>...</td>\n",
       "      <td>...</td>\n",
       "      <td>...</td>\n",
       "      <td>...</td>\n",
       "      <td>...</td>\n",
       "    </tr>\n",
       "    <tr>\n",
       "      <th>2023-03-13</th>\n",
       "      <td>22193.987921</td>\n",
       "      <td>24623.733257</td>\n",
       "      <td>21885.823234</td>\n",
       "      <td>24187.655050</td>\n",
       "      <td>18272306834</td>\n",
       "    </tr>\n",
       "    <tr>\n",
       "      <th>2023-03-14</th>\n",
       "      <td>24186.731085</td>\n",
       "      <td>26498.513240</td>\n",
       "      <td>24039.102901</td>\n",
       "      <td>24734.138121</td>\n",
       "      <td>19260587534</td>\n",
       "    </tr>\n",
       "    <tr>\n",
       "      <th>2023-03-15</th>\n",
       "      <td>24733.515543</td>\n",
       "      <td>25311.993049</td>\n",
       "      <td>23932.543908</td>\n",
       "      <td>24382.071611</td>\n",
       "      <td>15541994626</td>\n",
       "    </tr>\n",
       "    <tr>\n",
       "      <th>2023-03-16</th>\n",
       "      <td>24381.973148</td>\n",
       "      <td>25209.585332</td>\n",
       "      <td>24202.831941</td>\n",
       "      <td>25035.145931</td>\n",
       "      <td>11329586489</td>\n",
       "    </tr>\n",
       "    <tr>\n",
       "      <th>2023-03-17</th>\n",
       "      <td>25030.215835</td>\n",
       "      <td>25961.216554</td>\n",
       "      <td>24910.368274</td>\n",
       "      <td>25697.604092</td>\n",
       "      <td>2960194453</td>\n",
       "    </tr>\n",
       "  </tbody>\n",
       "</table>\n",
       "<p>1827 rows × 5 columns</p>\n",
       "</div>"
      ],
      "text/plain": [
       "                    Open          High           Low         Close  \\\n",
       "Date                                                                 \n",
       "2018-03-17   8321.910156   8346.530273   7812.819824   7916.879883   \n",
       "2018-03-18   7890.520019   8245.509766   7397.990234   8223.679688   \n",
       "2018-03-19   8344.120117   8675.870117   8182.399902   8630.650391   \n",
       "2018-03-20   8619.669922   9051.019531   8389.889648   8913.469727   \n",
       "2018-03-21   8937.480469   9177.370117   8846.330078   8929.280273   \n",
       "...                  ...           ...           ...           ...   \n",
       "2023-03-13  22193.987921  24623.733257  21885.823234  24187.655050   \n",
       "2023-03-14  24186.731085  26498.513240  24039.102901  24734.138121   \n",
       "2023-03-15  24733.515543  25311.993049  23932.543908  24382.071611   \n",
       "2023-03-16  24381.973148  25209.585332  24202.831941  25035.145931   \n",
       "2023-03-17  25030.215835  25961.216554  24910.368274  25697.604092   \n",
       "\n",
       "                 Volume  \n",
       "Date                     \n",
       "2018-03-17   4426149888  \n",
       "2018-03-18   6639190016  \n",
       "2018-03-19   6729110016  \n",
       "2018-03-20   6361789952  \n",
       "2018-03-21   6043129856  \n",
       "...                 ...  \n",
       "2023-03-13  18272306834  \n",
       "2023-03-14  19260587534  \n",
       "2023-03-15  15541994626  \n",
       "2023-03-16  11329586489  \n",
       "2023-03-17   2960194453  \n",
       "\n",
       "[1827 rows x 5 columns]"
      ]
     },
     "execution_count": 7,
     "metadata": {},
     "output_type": "execute_result"
    }
   ],
   "source": [
    "data = pd.DataFrame(historical)\n",
    "data.columns = [x.title() for x in data.columns] #uppercase first letter\n",
    "data.drop(['Adjclose','Unadjustedvolume', 'Change', 'Changepercent', 'Vwap', 'Label','Changeovertime'], axis=1,inplace=True)\n",
    "data['Date']=pd.to_datetime(data['Date'])\n",
    "data.set_index('Date',inplace=True) #date needs to be set as index!\n",
    "data=data.iloc[::-1] #to reverse the order of the dataframe\n",
    "data\n"
   ]
  },
  {
   "cell_type": "code",
   "execution_count": null,
   "metadata": {},
   "outputs": [],
   "source": []
  },
  {
   "attachments": {},
   "cell_type": "markdown",
   "metadata": {},
   "source": [
    "## Combine the indicators into a single dataframe and add the strategy"
   ]
  },
  {
   "attachments": {},
   "cell_type": "markdown",
   "metadata": {},
   "source": [
    "# Combine the indicators into a single dataframe"
   ]
  },
  {
   "cell_type": "code",
   "execution_count": null,
   "metadata": {},
   "outputs": [],
   "source": [
    "# df = pd.concat([df, df_indicators], axis=1)"
   ]
  },
  {
   "attachments": {},
   "cell_type": "markdown",
   "metadata": {},
   "source": [
    "# Create the backtest class and run the backtest"
   ]
  },
  {
   "cell_type": "code",
   "execution_count": null,
   "metadata": {},
   "outputs": [],
   "source": [
    "from code import strategy "
   ]
  },
  {
   "attachments": {},
   "cell_type": "markdown",
   "metadata": {},
   "source": [
    "# Save the results into a pdf file in the output folder"
   ]
  },
  {
   "cell_type": "markdown",
   "metadata": {},
   "source": []
  }
 ],
 "metadata": {
  "kernelspec": {
   "display_name": "Python 3",
   "language": "python",
   "name": "python3"
  },
  "language_info": {
   "codemirror_mode": {
    "name": "ipython",
    "version": 3
   },
   "file_extension": ".py",
   "mimetype": "text/x-python",
   "name": "python",
   "nbconvert_exporter": "python",
   "pygments_lexer": "ipython3",
   "version": "3.9.7"
  },
  "vscode": {
   "interpreter": {
    "hash": "aee8b7b246df8f9039afb4144a1f6fd8d2ca17a180786b69acc140d282b71a49"
   }
  }
 },
 "nbformat": 4,
 "nbformat_minor": 2
}
