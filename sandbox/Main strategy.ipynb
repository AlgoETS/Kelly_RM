{
 "cells": [
  {
   "attachments": {},
   "cell_type": "markdown",
   "metadata": {},
   "source": [
    "# 💡 STRATEGY\n",
    "\n",
    "Go To Kelly_game folder for additional information  \n",
    "\n",
    "[Guide backtesting](https://greyhoundanalytics.com/blog/backtestingpy-a-complete-quickstart-guide/)"
   ]
  },
  {
   "attachments": {},
   "cell_type": "markdown",
   "metadata": {},
   "source": [
    "# Install"
   ]
  },
  {
   "cell_type": "code",
   "execution_count": 2,
   "metadata": {},
   "outputs": [],
   "source": [
    "# import library\n",
    "from backtesting import Backtest\n",
    "import pandas as pd\n",
    "import numpy as np\n",
    "import seaborn as sns\n",
    "import matplotlib.pyplot as plt\n",
    "\n",
    "import sys\n",
    "\n",
    "sys.path.insert(0, 'C:/Users/Salim Hmidi/Documents/ALGO/Kelly_RM/')\n",
    "\n",
    "import src.data as data"
   ]
  },
  {
   "cell_type": "code",
   "execution_count": 3,
   "metadata": {},
   "outputs": [],
   "source": [
    "# import strategy\n",
    "from src.strategy import RsiOscillator"
   ]
  },
  {
   "attachments": {},
   "cell_type": "markdown",
   "metadata": {},
   "source": [
    "# Variable"
   ]
  },
  {
   "cell_type": "code",
   "execution_count": 4,
   "metadata": {},
   "outputs": [
    {
     "data": {
      "text/plain": [
       "'AES'"
      ]
     },
     "execution_count": 4,
     "metadata": {},
     "output_type": "execute_result"
    }
   ],
   "source": [
    "\n",
    "date_debut = '2018-01-01'\n",
    "date_fin = '2021-01-01'\n",
    "\n",
    "sp500 = pd.read_html('https://en.wikipedia.org/wiki/List_of_S%26P_500_companies')\n",
    "\n",
    "tickers = np.array(sp500[0]['Symbol'])\n",
    "\n",
    "#tickers ='AAL'\n",
    "\n",
    "strat = [RsiOscillator]\n",
    "\n",
    "\n",
    "df_training=[]\n",
    "df_unseen =[]\n",
    "tickers[9]"
   ]
  },
  {
   "attachments": {},
   "cell_type": "markdown",
   "metadata": {},
   "source": [
    "## Load the prices"
   ]
  },
  {
   "cell_type": "code",
   "execution_count": 5,
   "metadata": {},
   "outputs": [],
   "source": [
    "\n",
    "\n",
    "#Get the list of symbols\n",
    "historical=[]\n",
    "for i in range(10):\n",
    "    \n",
    "    data_downloaded = await data.get_historical_price_full_crypto(tickers[i])\n",
    "    historical.append(data_downloaded['historical'])\n",
    "\n",
    "\n"
   ]
  },
  {
   "attachments": {},
   "cell_type": "markdown",
   "metadata": {},
   "source": [
    "## Preprocess the data used in the strategy"
   ]
  },
  {
   "cell_type": "code",
   "execution_count": 6,
   "metadata": {},
   "outputs": [],
   "source": [
    "# Créez une liste vide pour stocker les DataFrames nettoyés avec les tickers\n",
    "cleaned_data_with_tickers = []\n",
    "\n",
    "# Parcourez chaque DataFrame dans la liste 'historical'\n",
    "for ticker, df in zip(tickers[:len(historical)], historical):\n",
    "    # Créez un DataFrame à partir des données historiques actuelles\n",
    "    data = pd.DataFrame(df)\n",
    "\n",
    "    # Mettez la première lettre des noms de colonnes en majuscule\n",
    "    data.columns = [x.title() for x in data.columns]\n",
    "\n",
    "    # Supprimez les colonnes non nécessaires\n",
    "    data.drop(['Adjclose', 'Unadjustedvolume', 'Change', 'Changepercent', 'Vwap', 'Label', 'Changeovertime'], axis=1, inplace=True)\n",
    "\n",
    "    # Convertissez la colonne 'Date' en format datetime\n",
    "    data['Date'] = pd.to_datetime(data['Date'])\n",
    "\n",
    "    # Définissez la colonne 'Date' comme index\n",
    "    data.set_index('Date', inplace=True)\n",
    "\n",
    "    # Inversez l'ordre du DataFrame\n",
    "    data = data.iloc[::-1]\n",
    "\n",
    "    # Ajoutez une colonne 'Ticker' avec le ticker actuel\n",
    "    data['Ticker'] = ticker\n",
    "\n",
    "    # Ajoutez le DataFrame nettoyé à la liste 'cleaned_data_with_tickers'\n",
    "    cleaned_data_with_tickers.append(data)\n",
    "\n",
    "# 'cleaned_data_with_tickers' contient mainten\n",
    "\n",
    "\n"
   ]
  },
  {
   "attachments": {},
   "cell_type": "markdown",
   "metadata": {},
   "source": [
    "# Divide Your Data into Two Sets\n",
    "\n",
    "- **Training Data**: This set is used for training the model and learning the underlying patterns in the data.\n",
    "\n",
    "- **Unseen Data**: This set, also known as the test or validation data, is held out from the training process.\n"
   ]
  },
  {
   "cell_type": "code",
   "execution_count": 7,
   "metadata": {},
   "outputs": [
    {
     "name": "stdout",
     "output_type": "stream",
     "text": [
      "[              Open    High      Low   Close   Volume Ticker\n",
      "Date                                                       \n",
      "2021-10-11  178.02  178.60  176.200  176.28  2691100    MMM\n",
      "2021-10-12  176.30  176.89  175.130  175.53  2155900    MMM\n",
      "2021-10-13  175.61  178.40  175.040  177.17  2030500    MMM\n",
      "2021-10-14  178.00  180.40  177.950  180.32  2279200    MMM\n",
      "2021-10-15  180.69  183.00  180.680  181.94  2160800    MMM\n",
      "...            ...     ...      ...     ...      ...    ...\n",
      "2023-10-02   92.65   92.83   89.310   90.22  8213621    MMM\n",
      "2023-10-03   89.75   89.94   88.155   88.79  5375110    MMM\n",
      "2023-10-04   88.60   88.86   87.310   88.02  6521346    MMM\n",
      "2023-10-05   88.00   88.24   86.550   87.83  4860196    MMM\n",
      "2023-10-06   87.40   89.21   86.330   88.40  4455399    MMM\n",
      "\n",
      "[501 rows x 6 columns],              Open     High     Low  Close   Volume Ticker\n",
      "Date                                                     \n",
      "2021-10-11  64.29  65.0500  64.130  64.16  1474343    AOS\n",
      "2021-10-12  64.43  65.5325  63.180  63.46  1786125    AOS\n",
      "2021-10-13  63.74  64.2000  63.075  63.66   904453    AOS\n",
      "2021-10-14  64.15  65.3600  63.810  65.27   934635    AOS\n",
      "2021-10-15  65.90  66.2800  65.430  65.70   719966    AOS\n",
      "...           ...      ...     ...    ...      ...    ...\n",
      "2023-10-02  65.90  66.8200  65.520  66.05   935307    AOS\n",
      "2023-10-03  65.76  66.5000  64.950  65.37   859832    AOS\n",
      "2023-10-04  65.68  66.3700  64.860  66.24   829275    AOS\n",
      "2023-10-05  66.32  66.8100  65.430  66.07  1065385    AOS\n",
      "2023-10-06  66.00  67.7800  65.740  67.29  1137437    AOS\n",
      "\n",
      "[501 rows x 6 columns],               Open      High      Low   Close   Volume Ticker\n",
      "Date                                                         \n",
      "2021-10-11  118.15  118.9400  116.845  116.88  3873246    ABT\n",
      "2021-10-12  117.90  118.3100  116.410  117.32  4599520    ABT\n",
      "2021-10-13  117.50  118.2300  116.440  117.00  3935418    ABT\n",
      "2021-10-14  116.66  117.6800  116.640  117.57  4977898    ABT\n",
      "2021-10-15  118.08  118.3300  117.130  117.49  6012639    ABT\n",
      "...            ...       ...      ...     ...      ...    ...\n",
      "2023-10-02   95.76   95.8900   94.530   95.73  4349291    ABT\n",
      "2023-10-03   95.52   96.1700   94.580   95.79  4597519    ABT\n",
      "2023-10-04   95.89   96.3400   94.830   95.65  4336119    ABT\n",
      "2023-10-05   95.76   96.6900   95.100   96.20  5708298    ABT\n",
      "2023-10-06   95.81   97.5116   95.450   96.88  4790450    ABT\n",
      "\n",
      "[501 rows x 6 columns],               Open      High      Low   Close   Volume Ticker\n",
      "Date                                                         \n",
      "2021-10-11  111.14  111.4000  110.280  110.34  4613800   ABBV\n",
      "2021-10-12  110.12  110.2600  108.160  108.57  6305802   ABBV\n",
      "2021-10-13  108.59  109.0350  108.000  108.53  5474818   ABBV\n",
      "2021-10-14  107.96  108.9900  107.800  108.91  7170453   ABBV\n",
      "2021-10-15  109.15  109.9616  109.080  109.33  4634513   ABBV\n",
      "...            ...       ...      ...     ...      ...    ...\n",
      "2023-10-02  148.47  148.8600  146.720  148.25  3827857   ABBV\n",
      "2023-10-03  147.83  147.9900  145.355  147.43  4580885   ABBV\n",
      "2023-10-04  146.57  148.0800  146.310  147.69  3159590   ABBV\n",
      "2023-10-05  147.93  149.5300  147.085  147.45  3599472   ABBV\n",
      "2023-10-06  146.49  149.3338  146.120  148.24  5299940   ABBV\n",
      "\n",
      "[501 rows x 6 columns],               Open    High      Low   Close   Volume Ticker\n",
      "Date                                                       \n",
      "2021-10-11  324.73  328.73  324.510  326.50  1475983    ACN\n",
      "2021-10-12  328.11  329.40  327.190  327.69  2054577    ACN\n",
      "2021-10-13  328.25  331.55  325.855  330.18  1768743    ACN\n",
      "2021-10-14  333.14  339.27  332.020  339.04  1628398    ACN\n",
      "2021-10-15  341.18  341.91  339.200  341.82  2074904    ACN\n",
      "...            ...     ...      ...     ...      ...    ...\n",
      "2023-10-02  307.57  308.46  305.110  308.26  2063302    ACN\n",
      "2023-10-03  307.06  311.55  305.550  306.23  2454880    ACN\n",
      "2023-10-04  310.74  311.00  306.870  309.39  2153862    ACN\n",
      "2023-10-05  308.81  310.41  305.370  309.66  2095480    ACN\n",
      "2023-10-06  308.28  315.11  306.720  312.19  2441461    ACN\n",
      "\n",
      "[501 rows x 6 columns],              Open    High      Low  Close   Volume Ticker\n",
      "Date                                                     \n",
      "2021-10-11  77.74  77.760  76.2600  76.32  6326425   ATVI\n",
      "2021-10-12  76.45  76.540  74.5882  74.92  6640867   ATVI\n",
      "2021-10-13  75.34  76.100  75.0200  75.25  6598863   ATVI\n",
      "2021-10-14  75.94  77.160  75.5700  76.11  5471702   ATVI\n",
      "2021-10-15  76.50  77.070  76.1899  76.40  6472760   ATVI\n",
      "...           ...     ...      ...    ...      ...    ...\n",
      "2023-10-02  93.68  93.940  93.6000  93.94  6633315   ATVI\n",
      "2023-10-03  93.81  93.990  93.7600  93.89  4889903   ATVI\n",
      "2023-10-04  93.87  94.035  93.6300  93.75  6948834   ATVI\n",
      "2023-10-05  93.85  93.935  93.6500  93.67  4270293   ATVI\n",
      "2023-10-06  94.00  94.260  93.9400  94.24  8133167   ATVI\n",
      "\n",
      "[501 rows x 6 columns],              Open    High    Low  Close   Volume Ticker\n",
      "Date                                                   \n",
      "2021-10-11  63.55  64.450  63.25  63.97  1955300    ADM\n",
      "2021-10-12  63.30  63.680  62.99  63.39  2080100    ADM\n",
      "2021-10-13  63.50  63.590  62.21  62.92  2172800    ADM\n",
      "2021-10-14  63.45  64.210  62.65  64.17  1971600    ADM\n",
      "2021-10-15  64.50  64.520  63.75  63.95  2149600    ADM\n",
      "...           ...     ...    ...    ...      ...    ...\n",
      "2023-10-02  74.80  75.170  73.51  74.20  2518755    ADM\n",
      "2023-10-03  73.98  74.430  73.56  73.81  1870775    ADM\n",
      "2023-10-04  73.80  73.820  72.96  73.47  1704626    ADM\n",
      "2023-10-05  73.43  73.880  72.99  73.13  1555790    ADM\n",
      "2023-10-06  72.62  73.059  71.41  72.86  2094414    ADM\n",
      "\n",
      "[501 rows x 6 columns],                 Open     High       Low   Close   Volume Ticker\n",
      "Date                                                           \n",
      "2021-10-11  574.5000  582.280  571.4950  573.07  1410612   ADBE\n",
      "2021-10-12  579.1569  584.220  574.4200  580.69  1740279   ADBE\n",
      "2021-10-13  585.2600  593.540  582.6550  591.12  2144405   ADBE\n",
      "2021-10-14  600.0000  609.440  596.9700  607.51  2501675   ADBE\n",
      "2021-10-15  611.6935  612.250  607.5500  610.09  1960103   ADBE\n",
      "...              ...      ...       ...     ...      ...    ...\n",
      "2023-10-02  508.2400  522.405  508.2400  521.13  2411478   ADBE\n",
      "2023-10-03  517.5200  520.490  504.5500  507.03  2004074   ADBE\n",
      "2023-10-04  511.9300  519.760  510.0001  518.42  2027195   ADBE\n",
      "2023-10-05  519.8400  522.605  509.2350  516.44  1818976   ADBE\n",
      "2023-10-06  513.2200  531.310  509.5200  526.68  2522082   ADBE\n",
      "\n",
      "[501 rows x 6 columns],               Open     High       Low   Close   Volume Ticker\n",
      "Date                                                         \n",
      "2021-10-11  205.56  205.760  203.6300  203.75   816900    ADP\n",
      "2021-10-12  204.07  204.640  203.0100  203.84  1132600    ADP\n",
      "2021-10-13  205.17  205.760  202.2500  205.19  1129800    ADP\n",
      "2021-10-14  206.36  208.950  206.2100  208.52  1361900    ADP\n",
      "2021-10-15  210.00  213.050  209.1400  212.98  1747200    ADP\n",
      "...            ...      ...       ...     ...      ...    ...\n",
      "2023-10-02  240.58  240.950  238.0450  239.37  1206402    ADP\n",
      "2023-10-03  238.91  240.555  238.2800  240.42  1216614    ADP\n",
      "2023-10-04  241.29  244.350  239.8800  243.98  1388645    ADP\n",
      "2023-10-05  244.51  244.920  241.1001  243.36   935328    ADP\n",
      "2023-10-06  242.15  247.650  240.2750  246.38  1574833    ADP\n",
      "\n",
      "[501 rows x 6 columns],              Open     High      Low  Close    Volume Ticker\n",
      "Date                                                       \n",
      "2021-10-11  24.02  24.1900  23.8400  24.00   7662489    AES\n",
      "2021-10-12  24.02  24.2000  23.9000  24.02   6733536    AES\n",
      "2021-10-13  24.09  24.2200  23.8150  23.95   5890203    AES\n",
      "2021-10-14  24.13  24.3100  23.9200  24.28   3200579    AES\n",
      "2021-10-15  24.49  24.6550  24.3100  24.41   3537764    AES\n",
      "...           ...      ...      ...    ...       ...    ...\n",
      "2023-10-02  15.08  15.1300  14.0950  14.16   9800345    AES\n",
      "2023-10-03  13.90  14.0000  13.2350  13.54  16112330    AES\n",
      "2023-10-04  13.61  13.6561  12.9200  13.20  10909983    AES\n",
      "2023-10-05  13.14  13.1400  12.3601  12.61  16193821    AES\n",
      "2023-10-06  12.10  12.5000  11.4300  12.45  27873995    AES\n",
      "\n",
      "[501 rows x 6 columns]]\n"
     ]
    }
   ],
   "source": [
    "for df in cleaned_data_with_tickers:\n",
    "    # Your code for each DataFrame here\n",
    "    \n",
    "    split_date = pd.to_datetime(df.index[0]) + pd.DateOffset(years=3)\n",
    "    df_training.append(df[df.index < split_date])\n",
    "    df_unseen.append(df[df.index >= split_date])\n",
    "    \n",
    "\n",
    "print(df_unseen)"
   ]
  },
  {
   "attachments": {},
   "cell_type": "markdown",
   "metadata": {},
   "source": [
    "# Training and Optimizing Backtest Parameters\n",
    "\n",
    "1. Define the parameter space by listing the variables to optimize, such as indicators or thresholds, along with their potential values.\n",
    "\n",
    "2. Conduct backtests using different parameter combinations and evaluate performance using metrics like total return, Sharpe ratio, maximum drawdown, and win rate.\n",
    "\n",
    "3. Perform parameter optimization by identifying the parameter values that yield the best results using techniques like grid search or genetic algorithms.\n"
   ]
  },
  {
   "cell_type": "code",
   "execution_count": 8,
   "metadata": {},
   "outputs": [
    {
     "name": "stderr",
     "output_type": "stream",
     "text": [
      "c:\\Users\\Salim Hmidi\\ANAconda\\lib\\site-packages\\backtesting\\backtesting.py:1488: UserWarning: Searching for best of 360 configurations.\n",
      "  output = _optimize_grid()\n"
     ]
    },
    {
     "data": {
      "application/vnd.jupyter.widget-view+json": {
       "model_id": "c2799df2ecb34fc7988c2fda06119748",
       "version_major": 2,
       "version_minor": 0
      },
      "text/plain": [
       "  0%|          | 0/12 [00:00<?, ?it/s]"
      ]
     },
     "metadata": {},
     "output_type": "display_data"
    },
    {
     "name": "stderr",
     "output_type": "stream",
     "text": [
      "c:\\Users\\Salim Hmidi\\ANAconda\\lib\\site-packages\\backtesting\\backtesting.py:1488: UserWarning: Searching for best of 360 configurations.\n",
      "  output = _optimize_grid()\n"
     ]
    },
    {
     "data": {
      "application/vnd.jupyter.widget-view+json": {
       "model_id": "1b85583e6d4146aea34349f5b25f5050",
       "version_major": 2,
       "version_minor": 0
      },
      "text/plain": [
       "  0%|          | 0/12 [00:00<?, ?it/s]"
      ]
     },
     "metadata": {},
     "output_type": "display_data"
    },
    {
     "name": "stderr",
     "output_type": "stream",
     "text": [
      "c:\\Users\\Salim Hmidi\\ANAconda\\lib\\site-packages\\backtesting\\backtesting.py:1488: UserWarning: Searching for best of 360 configurations.\n",
      "  output = _optimize_grid()\n"
     ]
    },
    {
     "data": {
      "application/vnd.jupyter.widget-view+json": {
       "model_id": "c273421bcb4a47388efeff96d221139a",
       "version_major": 2,
       "version_minor": 0
      },
      "text/plain": [
       "  0%|          | 0/12 [00:00<?, ?it/s]"
      ]
     },
     "metadata": {},
     "output_type": "display_data"
    },
    {
     "name": "stderr",
     "output_type": "stream",
     "text": [
      "c:\\Users\\Salim Hmidi\\ANAconda\\lib\\site-packages\\backtesting\\backtesting.py:1488: UserWarning: Searching for best of 360 configurations.\n",
      "  output = _optimize_grid()\n"
     ]
    },
    {
     "data": {
      "application/vnd.jupyter.widget-view+json": {
       "model_id": "3632fee7cd1d411f86ba8e30a800d579",
       "version_major": 2,
       "version_minor": 0
      },
      "text/plain": [
       "  0%|          | 0/12 [00:00<?, ?it/s]"
      ]
     },
     "metadata": {},
     "output_type": "display_data"
    },
    {
     "name": "stderr",
     "output_type": "stream",
     "text": [
      "c:\\Users\\Salim Hmidi\\ANAconda\\lib\\site-packages\\backtesting\\_stats.py:122: RuntimeWarning: divide by zero encountered in scalar divide\n",
      "  s.loc['Sortino Ratio'] = np.clip((annualized_return - risk_free_rate) / (np.sqrt(np.mean(day_returns.clip(-np.inf, 0)**2)) * np.sqrt(annual_trading_days)), 0, np.inf)  # noqa: E501\n",
      "c:\\Users\\Salim Hmidi\\ANAconda\\lib\\site-packages\\backtesting\\_stats.py:122: RuntimeWarning: divide by zero encountered in scalar divide\n",
      "  s.loc['Sortino Ratio'] = np.clip((annualized_return - risk_free_rate) / (np.sqrt(np.mean(day_returns.clip(-np.inf, 0)**2)) * np.sqrt(annual_trading_days)), 0, np.inf)  # noqa: E501\n",
      "c:\\Users\\Salim Hmidi\\ANAconda\\lib\\site-packages\\backtesting\\_stats.py:122: RuntimeWarning: divide by zero encountered in scalar divide\n",
      "  s.loc['Sortino Ratio'] = np.clip((annualized_return - risk_free_rate) / (np.sqrt(np.mean(day_returns.clip(-np.inf, 0)**2)) * np.sqrt(annual_trading_days)), 0, np.inf)  # noqa: E501\n",
      "c:\\Users\\Salim Hmidi\\ANAconda\\lib\\site-packages\\backtesting\\_stats.py:122: RuntimeWarning: divide by zero encountered in scalar divide\n",
      "  s.loc['Sortino Ratio'] = np.clip((annualized_return - risk_free_rate) / (np.sqrt(np.mean(day_returns.clip(-np.inf, 0)**2)) * np.sqrt(annual_trading_days)), 0, np.inf)  # noqa: E501\n",
      "c:\\Users\\Salim Hmidi\\ANAconda\\lib\\site-packages\\backtesting\\_stats.py:122: RuntimeWarning: divide by zero encountered in scalar divide\n",
      "  s.loc['Sortino Ratio'] = np.clip((annualized_return - risk_free_rate) / (np.sqrt(np.mean(day_returns.clip(-np.inf, 0)**2)) * np.sqrt(annual_trading_days)), 0, np.inf)  # noqa: E501\n",
      "c:\\Users\\Salim Hmidi\\ANAconda\\lib\\site-packages\\backtesting\\_stats.py:122: RuntimeWarning: divide by zero encountered in scalar divide\n",
      "  s.loc['Sortino Ratio'] = np.clip((annualized_return - risk_free_rate) / (np.sqrt(np.mean(day_returns.clip(-np.inf, 0)**2)) * np.sqrt(annual_trading_days)), 0, np.inf)  # noqa: E501\n",
      "c:\\Users\\Salim Hmidi\\ANAconda\\lib\\site-packages\\backtesting\\_stats.py:122: RuntimeWarning: divide by zero encountered in scalar divide\n",
      "  s.loc['Sortino Ratio'] = np.clip((annualized_return - risk_free_rate) / (np.sqrt(np.mean(day_returns.clip(-np.inf, 0)**2)) * np.sqrt(annual_trading_days)), 0, np.inf)  # noqa: E501\n",
      "c:\\Users\\Salim Hmidi\\ANAconda\\lib\\site-packages\\backtesting\\_stats.py:122: RuntimeWarning: divide by zero encountered in scalar divide\n",
      "  s.loc['Sortino Ratio'] = np.clip((annualized_return - risk_free_rate) / (np.sqrt(np.mean(day_returns.clip(-np.inf, 0)**2)) * np.sqrt(annual_trading_days)), 0, np.inf)  # noqa: E501\n",
      "c:\\Users\\Salim Hmidi\\ANAconda\\lib\\site-packages\\backtesting\\_stats.py:122: RuntimeWarning: divide by zero encountered in scalar divide\n",
      "  s.loc['Sortino Ratio'] = np.clip((annualized_return - risk_free_rate) / (np.sqrt(np.mean(day_returns.clip(-np.inf, 0)**2)) * np.sqrt(annual_trading_days)), 0, np.inf)  # noqa: E501\n",
      "c:\\Users\\Salim Hmidi\\ANAconda\\lib\\site-packages\\backtesting\\_stats.py:122: RuntimeWarning: divide by zero encountered in scalar divide\n",
      "  s.loc['Sortino Ratio'] = np.clip((annualized_return - risk_free_rate) / (np.sqrt(np.mean(day_returns.clip(-np.inf, 0)**2)) * np.sqrt(annual_trading_days)), 0, np.inf)  # noqa: E501\n",
      "c:\\Users\\Salim Hmidi\\ANAconda\\lib\\site-packages\\backtesting\\_stats.py:122: RuntimeWarning: divide by zero encountered in scalar divide\n",
      "  s.loc['Sortino Ratio'] = np.clip((annualized_return - risk_free_rate) / (np.sqrt(np.mean(day_returns.clip(-np.inf, 0)**2)) * np.sqrt(annual_trading_days)), 0, np.inf)  # noqa: E501\n",
      "c:\\Users\\Salim Hmidi\\ANAconda\\lib\\site-packages\\backtesting\\_stats.py:122: RuntimeWarning: divide by zero encountered in scalar divide\n",
      "  s.loc['Sortino Ratio'] = np.clip((annualized_return - risk_free_rate) / (np.sqrt(np.mean(day_returns.clip(-np.inf, 0)**2)) * np.sqrt(annual_trading_days)), 0, np.inf)  # noqa: E501\n",
      "c:\\Users\\Salim Hmidi\\ANAconda\\lib\\site-packages\\backtesting\\backtesting.py:1488: UserWarning: Searching for best of 360 configurations.\n",
      "  output = _optimize_grid()\n"
     ]
    },
    {
     "data": {
      "application/vnd.jupyter.widget-view+json": {
       "model_id": "399392a452f34bc0aa131572f64ed554",
       "version_major": 2,
       "version_minor": 0
      },
      "text/plain": [
       "  0%|          | 0/12 [00:00<?, ?it/s]"
      ]
     },
     "metadata": {},
     "output_type": "display_data"
    },
    {
     "name": "stderr",
     "output_type": "stream",
     "text": [
      "c:\\Users\\Salim Hmidi\\ANAconda\\lib\\site-packages\\backtesting\\_stats.py:122: RuntimeWarning: divide by zero encountered in scalar divide\n",
      "  s.loc['Sortino Ratio'] = np.clip((annualized_return - risk_free_rate) / (np.sqrt(np.mean(day_returns.clip(-np.inf, 0)**2)) * np.sqrt(annual_trading_days)), 0, np.inf)  # noqa: E501\n",
      "c:\\Users\\Salim Hmidi\\ANAconda\\lib\\site-packages\\backtesting\\backtesting.py:1488: UserWarning: Searching for best of 360 configurations.\n",
      "  output = _optimize_grid()\n"
     ]
    },
    {
     "data": {
      "application/vnd.jupyter.widget-view+json": {
       "model_id": "983a6d01724a40dcbea4a3b3f3280424",
       "version_major": 2,
       "version_minor": 0
      },
      "text/plain": [
       "  0%|          | 0/12 [00:00<?, ?it/s]"
      ]
     },
     "metadata": {},
     "output_type": "display_data"
    },
    {
     "name": "stderr",
     "output_type": "stream",
     "text": [
      "c:\\Users\\Salim Hmidi\\ANAconda\\lib\\site-packages\\backtesting\\backtesting.py:1488: UserWarning: Searching for best of 360 configurations.\n",
      "  output = _optimize_grid()\n"
     ]
    },
    {
     "data": {
      "application/vnd.jupyter.widget-view+json": {
       "model_id": "654202dd63d741d89f9fd1d138514bd0",
       "version_major": 2,
       "version_minor": 0
      },
      "text/plain": [
       "  0%|          | 0/12 [00:00<?, ?it/s]"
      ]
     },
     "metadata": {},
     "output_type": "display_data"
    },
    {
     "name": "stderr",
     "output_type": "stream",
     "text": [
      "c:\\Users\\Salim Hmidi\\ANAconda\\lib\\site-packages\\backtesting\\backtesting.py:1488: UserWarning: Searching for best of 360 configurations.\n",
      "  output = _optimize_grid()\n"
     ]
    },
    {
     "data": {
      "application/vnd.jupyter.widget-view+json": {
       "model_id": "65bf62670d314d9f8aa611966469e083",
       "version_major": 2,
       "version_minor": 0
      },
      "text/plain": [
       "  0%|          | 0/12 [00:00<?, ?it/s]"
      ]
     },
     "metadata": {},
     "output_type": "display_data"
    },
    {
     "name": "stderr",
     "output_type": "stream",
     "text": [
      "c:\\Users\\Salim Hmidi\\ANAconda\\lib\\site-packages\\backtesting\\_stats.py:122: RuntimeWarning: divide by zero encountered in scalar divide\n",
      "  s.loc['Sortino Ratio'] = np.clip((annualized_return - risk_free_rate) / (np.sqrt(np.mean(day_returns.clip(-np.inf, 0)**2)) * np.sqrt(annual_trading_days)), 0, np.inf)  # noqa: E501\n",
      "c:\\Users\\Salim Hmidi\\ANAconda\\lib\\site-packages\\backtesting\\_stats.py:122: RuntimeWarning: divide by zero encountered in scalar divide\n",
      "  s.loc['Sortino Ratio'] = np.clip((annualized_return - risk_free_rate) / (np.sqrt(np.mean(day_returns.clip(-np.inf, 0)**2)) * np.sqrt(annual_trading_days)), 0, np.inf)  # noqa: E501\n",
      "c:\\Users\\Salim Hmidi\\ANAconda\\lib\\site-packages\\backtesting\\_stats.py:122: RuntimeWarning: divide by zero encountered in scalar divide\n",
      "  s.loc['Sortino Ratio'] = np.clip((annualized_return - risk_free_rate) / (np.sqrt(np.mean(day_returns.clip(-np.inf, 0)**2)) * np.sqrt(annual_trading_days)), 0, np.inf)  # noqa: E501\n",
      "c:\\Users\\Salim Hmidi\\ANAconda\\lib\\site-packages\\backtesting\\_stats.py:122: RuntimeWarning: divide by zero encountered in scalar divide\n",
      "  s.loc['Sortino Ratio'] = np.clip((annualized_return - risk_free_rate) / (np.sqrt(np.mean(day_returns.clip(-np.inf, 0)**2)) * np.sqrt(annual_trading_days)), 0, np.inf)  # noqa: E501\n",
      "c:\\Users\\Salim Hmidi\\ANAconda\\lib\\site-packages\\backtesting\\_stats.py:122: RuntimeWarning: divide by zero encountered in scalar divide\n",
      "  s.loc['Sortino Ratio'] = np.clip((annualized_return - risk_free_rate) / (np.sqrt(np.mean(day_returns.clip(-np.inf, 0)**2)) * np.sqrt(annual_trading_days)), 0, np.inf)  # noqa: E501\n",
      "c:\\Users\\Salim Hmidi\\ANAconda\\lib\\site-packages\\backtesting\\_stats.py:122: RuntimeWarning: divide by zero encountered in scalar divide\n",
      "  s.loc['Sortino Ratio'] = np.clip((annualized_return - risk_free_rate) / (np.sqrt(np.mean(day_returns.clip(-np.inf, 0)**2)) * np.sqrt(annual_trading_days)), 0, np.inf)  # noqa: E501\n",
      "c:\\Users\\Salim Hmidi\\ANAconda\\lib\\site-packages\\backtesting\\_stats.py:122: RuntimeWarning: divide by zero encountered in scalar divide\n",
      "  s.loc['Sortino Ratio'] = np.clip((annualized_return - risk_free_rate) / (np.sqrt(np.mean(day_returns.clip(-np.inf, 0)**2)) * np.sqrt(annual_trading_days)), 0, np.inf)  # noqa: E501\n",
      "c:\\Users\\Salim Hmidi\\ANAconda\\lib\\site-packages\\backtesting\\_stats.py:122: RuntimeWarning: divide by zero encountered in scalar divide\n",
      "  s.loc['Sortino Ratio'] = np.clip((annualized_return - risk_free_rate) / (np.sqrt(np.mean(day_returns.clip(-np.inf, 0)**2)) * np.sqrt(annual_trading_days)), 0, np.inf)  # noqa: E501\n",
      "c:\\Users\\Salim Hmidi\\ANAconda\\lib\\site-packages\\backtesting\\_stats.py:122: RuntimeWarning: divide by zero encountered in scalar divide\n",
      "  s.loc['Sortino Ratio'] = np.clip((annualized_return - risk_free_rate) / (np.sqrt(np.mean(day_returns.clip(-np.inf, 0)**2)) * np.sqrt(annual_trading_days)), 0, np.inf)  # noqa: E501\n",
      "c:\\Users\\Salim Hmidi\\ANAconda\\lib\\site-packages\\backtesting\\_stats.py:122: RuntimeWarning: divide by zero encountered in scalar divide\n",
      "  s.loc['Sortino Ratio'] = np.clip((annualized_return - risk_free_rate) / (np.sqrt(np.mean(day_returns.clip(-np.inf, 0)**2)) * np.sqrt(annual_trading_days)), 0, np.inf)  # noqa: E501\n",
      "c:\\Users\\Salim Hmidi\\ANAconda\\lib\\site-packages\\backtesting\\_stats.py:122: RuntimeWarning: divide by zero encountered in scalar divide\n",
      "  s.loc['Sortino Ratio'] = np.clip((annualized_return - risk_free_rate) / (np.sqrt(np.mean(day_returns.clip(-np.inf, 0)**2)) * np.sqrt(annual_trading_days)), 0, np.inf)  # noqa: E501\n",
      "c:\\Users\\Salim Hmidi\\ANAconda\\lib\\site-packages\\backtesting\\_stats.py:122: RuntimeWarning: divide by zero encountered in scalar divide\n",
      "  s.loc['Sortino Ratio'] = np.clip((annualized_return - risk_free_rate) / (np.sqrt(np.mean(day_returns.clip(-np.inf, 0)**2)) * np.sqrt(annual_trading_days)), 0, np.inf)  # noqa: E501\n",
      "c:\\Users\\Salim Hmidi\\ANAconda\\lib\\site-packages\\backtesting\\_stats.py:122: RuntimeWarning: divide by zero encountered in scalar divide\n",
      "  s.loc['Sortino Ratio'] = np.clip((annualized_return - risk_free_rate) / (np.sqrt(np.mean(day_returns.clip(-np.inf, 0)**2)) * np.sqrt(annual_trading_days)), 0, np.inf)  # noqa: E501\n",
      "c:\\Users\\Salim Hmidi\\ANAconda\\lib\\site-packages\\backtesting\\_stats.py:122: RuntimeWarning: divide by zero encountered in scalar divide\n",
      "  s.loc['Sortino Ratio'] = np.clip((annualized_return - risk_free_rate) / (np.sqrt(np.mean(day_returns.clip(-np.inf, 0)**2)) * np.sqrt(annual_trading_days)), 0, np.inf)  # noqa: E501\n",
      "c:\\Users\\Salim Hmidi\\ANAconda\\lib\\site-packages\\backtesting\\_stats.py:122: RuntimeWarning: divide by zero encountered in scalar divide\n",
      "  s.loc['Sortino Ratio'] = np.clip((annualized_return - risk_free_rate) / (np.sqrt(np.mean(day_returns.clip(-np.inf, 0)**2)) * np.sqrt(annual_trading_days)), 0, np.inf)  # noqa: E501\n",
      "c:\\Users\\Salim Hmidi\\ANAconda\\lib\\site-packages\\backtesting\\_stats.py:122: RuntimeWarning: divide by zero encountered in scalar divide\n",
      "  s.loc['Sortino Ratio'] = np.clip((annualized_return - risk_free_rate) / (np.sqrt(np.mean(day_returns.clip(-np.inf, 0)**2)) * np.sqrt(annual_trading_days)), 0, np.inf)  # noqa: E501\n",
      "c:\\Users\\Salim Hmidi\\ANAconda\\lib\\site-packages\\backtesting\\_stats.py:122: RuntimeWarning: divide by zero encountered in scalar divide\n",
      "  s.loc['Sortino Ratio'] = np.clip((annualized_return - risk_free_rate) / (np.sqrt(np.mean(day_returns.clip(-np.inf, 0)**2)) * np.sqrt(annual_trading_days)), 0, np.inf)  # noqa: E501\n",
      "c:\\Users\\Salim Hmidi\\ANAconda\\lib\\site-packages\\backtesting\\_stats.py:122: RuntimeWarning: divide by zero encountered in scalar divide\n",
      "  s.loc['Sortino Ratio'] = np.clip((annualized_return - risk_free_rate) / (np.sqrt(np.mean(day_returns.clip(-np.inf, 0)**2)) * np.sqrt(annual_trading_days)), 0, np.inf)  # noqa: E501\n",
      "c:\\Users\\Salim Hmidi\\ANAconda\\lib\\site-packages\\backtesting\\_stats.py:122: RuntimeWarning: divide by zero encountered in scalar divide\n",
      "  s.loc['Sortino Ratio'] = np.clip((annualized_return - risk_free_rate) / (np.sqrt(np.mean(day_returns.clip(-np.inf, 0)**2)) * np.sqrt(annual_trading_days)), 0, np.inf)  # noqa: E501\n",
      "c:\\Users\\Salim Hmidi\\ANAconda\\lib\\site-packages\\backtesting\\_stats.py:122: RuntimeWarning: divide by zero encountered in scalar divide\n",
      "  s.loc['Sortino Ratio'] = np.clip((annualized_return - risk_free_rate) / (np.sqrt(np.mean(day_returns.clip(-np.inf, 0)**2)) * np.sqrt(annual_trading_days)), 0, np.inf)  # noqa: E501\n",
      "c:\\Users\\Salim Hmidi\\ANAconda\\lib\\site-packages\\backtesting\\backtesting.py:1488: UserWarning: Searching for best of 360 configurations.\n",
      "  output = _optimize_grid()\n"
     ]
    },
    {
     "data": {
      "application/vnd.jupyter.widget-view+json": {
       "model_id": "b7dea717935b4d63beba00701760b303",
       "version_major": 2,
       "version_minor": 0
      },
      "text/plain": [
       "  0%|          | 0/12 [00:00<?, ?it/s]"
      ]
     },
     "metadata": {},
     "output_type": "display_data"
    },
    {
     "name": "stderr",
     "output_type": "stream",
     "text": [
      "c:\\Users\\Salim Hmidi\\ANAconda\\lib\\site-packages\\backtesting\\_stats.py:122: RuntimeWarning: divide by zero encountered in scalar divide\n",
      "  s.loc['Sortino Ratio'] = np.clip((annualized_return - risk_free_rate) / (np.sqrt(np.mean(day_returns.clip(-np.inf, 0)**2)) * np.sqrt(annual_trading_days)), 0, np.inf)  # noqa: E501\n",
      "c:\\Users\\Salim Hmidi\\ANAconda\\lib\\site-packages\\backtesting\\_stats.py:122: RuntimeWarning: divide by zero encountered in scalar divide\n",
      "  s.loc['Sortino Ratio'] = np.clip((annualized_return - risk_free_rate) / (np.sqrt(np.mean(day_returns.clip(-np.inf, 0)**2)) * np.sqrt(annual_trading_days)), 0, np.inf)  # noqa: E501\n",
      "c:\\Users\\Salim Hmidi\\ANAconda\\lib\\site-packages\\backtesting\\backtesting.py:1488: UserWarning: Searching for best of 360 configurations.\n",
      "  output = _optimize_grid()\n"
     ]
    },
    {
     "data": {
      "application/vnd.jupyter.widget-view+json": {
       "model_id": "1e6e7129926d48f588d46be0c5e1dc5d",
       "version_major": 2,
       "version_minor": 0
      },
      "text/plain": [
       "  0%|          | 0/12 [00:00<?, ?it/s]"
      ]
     },
     "metadata": {},
     "output_type": "display_data"
    }
   ],
   "source": [
    "heatmaps = []\n",
    "\n",
    "\n",
    "for data in df_training:\n",
    "        bt = Backtest(data, strat[0], cash=10_000, commission=.002)\n",
    "        \n",
    "        stats, heatmap = bt.optimize(\n",
    "                upper_bound = range(35,85,5),\n",
    "                lower_bound = range(15,60,5),\n",
    "                rsi_window = range(10,30,5),\n",
    "                maximize='Equity Final [$]',\n",
    "                return_heatmap=True)\n",
    "\n",
    "        # choose your colormaps from here\n",
    "        # https://matplotlib.org/stable/tutorials/colors/colormaps.html\n",
    "\n",
    "        hm = heatmap.groupby([\"upper_bound\",\"lower_bound\"]).mean().unstack()\n",
    "\n",
    "        heatmaps.append(heatmap)  # Append each heatmap to the list\n",
    "\n"
   ]
  },
  {
   "cell_type": "code",
   "execution_count": 9,
   "metadata": {},
   "outputs": [
    {
     "data": {
      "image/png": "[encoded data removed]",
      "text/plain": [
       "<Figure size 640x480 with 2 Axes>"
      ]
     },
     "metadata": {},
     "output_type": "display_data"
    }
   ],
   "source": [
    "\n",
    "combined_heatmap = pd.concat(heatmaps, axis=0)\n",
    "\n",
    "# Step 2: Group and aggregate the data (you can choose your aggregation method, e.g., mean)\n",
    "agg_heatmap = combined_heatmap.groupby([\"upper_bound\", \"lower_bound\", \"rsi_window\"]).mean().unstack()\n",
    "\n",
    "# Step 3: Create a heatmap from the aggregated data\n",
    "sns.heatmap(agg_heatmap, cmap=\"plasma\")\n",
    "plt.show()\n",
    "\n"
   ]
  },
  {
   "attachments": {},
   "cell_type": "markdown",
   "metadata": {},
   "source": [
    "# Estimating Odds of Win, Loss, and Gain\n",
    "\n",
    "\n",
    "\n",
    "\n",
    "\n",
    "\n",
    "\n",
    "\n",
    "\n",
    "\n",
    "\n"
   ]
  },
  {
   "cell_type": "code",
   "execution_count": 19,
   "metadata": {},
   "outputs": [],
   "source": [
    "df_result = []\n",
    "\n",
    "for data in df_training:\n",
    "    bt = Backtest(data, strat[0], cash=10_000, commission=0.002)\n",
    "    stats = bt.run()\n",
    "    \n",
    "    # Create a dictionary to store both trade statistics and ticker\n",
    "    result_dict = {\n",
    "        'Stats': stats['_trades'],\n",
    "        'Ticker': data['Ticker'][0]  # Assuming 'Ticker' is a constant for each DataFrame\n",
    "    }\n",
    "    \n",
    "    df_result.append(result_dict)\n"
   ]
  },
  {
   "cell_type": "code",
   "execution_count": 46,
   "metadata": {},
   "outputs": [
    {
     "name": "stdout",
     "output_type": "stream",
     "text": [
      "        Mean_Win_Probability  Variance_Win_Probability  Mean_Win_Size  \\\n",
      "Ticker                                                                  \n",
      "ABBV                0.800000                  0.200000       0.142271   \n",
      "ABT                 0.750000                  0.250000       0.116415   \n",
      "ACN                 1.000000                  0.000000       0.091091   \n",
      "ADBE                0.666667                  0.333333       0.067429   \n",
      "ADM                 0.666667                  0.333333       0.024403   \n",
      "ADP                 1.000000                  0.000000       0.094046   \n",
      "AES                 0.600000                  0.300000       0.065764   \n",
      "AOS                 0.750000                  0.250000       0.086650   \n",
      "ATVI                0.000000                  0.000000       0.000000   \n",
      "MMM                 0.000000                  0.000000       0.000000   \n",
      "\n",
      "        Variance_Win_Size  Mean_Loss_Size  Variance_Loss_Size  \n",
      "Ticker                                                         \n",
      "ABBV             0.027542        0.014518            0.001054  \n",
      "ABT              0.007061        0.002240            0.000020  \n",
      "ACN              0.006230        0.000000            0.000000  \n",
      "ADBE             0.006343        0.003023            0.000027  \n",
      "ADM              0.000496        0.019614            0.001154  \n",
      "ADP              0.002544        0.000000            0.000000  \n",
      "AES              0.006792        0.025891            0.001263  \n",
      "AOS              0.006889        0.007263            0.000211  \n",
      "ATVI             0.000000        0.046149            0.003139  \n",
      "MMM              0.000000        0.066760            0.000394  \n"
     ]
    },
    {
     "name": "stderr",
     "output_type": "stream",
     "text": [
      "C:\\Users\\Salim Hmidi\\AppData\\Local\\Temp\\ipykernel_7412\\2376489941.py:20: FutureWarning: The frame.append method is deprecated and will be removed from pandas in a future version. Use pandas.concat instead.\n",
      "  stats_df = stats_df.append(trades)\n",
      "C:\\Users\\Salim Hmidi\\AppData\\Local\\Temp\\ipykernel_7412\\2376489941.py:20: FutureWarning: The frame.append method is deprecated and will be removed from pandas in a future version. Use pandas.concat instead.\n",
      "  stats_df = stats_df.append(trades)\n",
      "C:\\Users\\Salim Hmidi\\AppData\\Local\\Temp\\ipykernel_7412\\2376489941.py:20: FutureWarning: The frame.append method is deprecated and will be removed from pandas in a future version. Use pandas.concat instead.\n",
      "  stats_df = stats_df.append(trades)\n",
      "C:\\Users\\Salim Hmidi\\AppData\\Local\\Temp\\ipykernel_7412\\2376489941.py:20: FutureWarning: The frame.append method is deprecated and will be removed from pandas in a future version. Use pandas.concat instead.\n",
      "  stats_df = stats_df.append(trades)\n",
      "C:\\Users\\Salim Hmidi\\AppData\\Local\\Temp\\ipykernel_7412\\2376489941.py:20: FutureWarning: The frame.append method is deprecated and will be removed from pandas in a future version. Use pandas.concat instead.\n",
      "  stats_df = stats_df.append(trades)\n",
      "C:\\Users\\Salim Hmidi\\AppData\\Local\\Temp\\ipykernel_7412\\2376489941.py:20: FutureWarning: The frame.append method is deprecated and will be removed from pandas in a future version. Use pandas.concat instead.\n",
      "  stats_df = stats_df.append(trades)\n",
      "C:\\Users\\Salim Hmidi\\AppData\\Local\\Temp\\ipykernel_7412\\2376489941.py:20: FutureWarning: The frame.append method is deprecated and will be removed from pandas in a future version. Use pandas.concat instead.\n",
      "  stats_df = stats_df.append(trades)\n",
      "C:\\Users\\Salim Hmidi\\AppData\\Local\\Temp\\ipykernel_7412\\2376489941.py:20: FutureWarning: The frame.append method is deprecated and will be removed from pandas in a future version. Use pandas.concat instead.\n",
      "  stats_df = stats_df.append(trades)\n",
      "C:\\Users\\Salim Hmidi\\AppData\\Local\\Temp\\ipykernel_7412\\2376489941.py:20: FutureWarning: The frame.append method is deprecated and will be removed from pandas in a future version. Use pandas.concat instead.\n",
      "  stats_df = stats_df.append(trades)\n",
      "C:\\Users\\Salim Hmidi\\AppData\\Local\\Temp\\ipykernel_7412\\2376489941.py:20: FutureWarning: The frame.append method is deprecated and will be removed from pandas in a future version. Use pandas.concat instead.\n",
      "  stats_df = stats_df.append(trades)\n"
     ]
    }
   ],
   "source": [
    "\n",
    "\n",
    "# Initialize a DataFrame to store statistics by ticker\n",
    "stats_df = pd.DataFrame()\n",
    "\n",
    "# Loop through df_result to calculate and store statistics by ticker\n",
    "for result in df_result:\n",
    "    \n",
    "    trades = result['Stats']\n",
    "    ticker = result['Ticker']\n",
    "\n",
    "    # Calculate win_probability, win_size, and loss_size for each trade\n",
    "    trades['Win_Probability'] = (trades['ReturnPct'] > 0).astype(int) # 1 for win, 0 for loss\n",
    "    trades['Win_Size'] = np.where(trades['Win_Probability'] == 1, trades['ReturnPct'], 0)\n",
    "    trades['Loss_Size'] = np.where(trades['Win_Probability'] == 0, -trades['ReturnPct'], 0)\n",
    "\n",
    "    # Append the current ticker to the DataFrame\n",
    "    trades['Ticker'] = ticker\n",
    "\n",
    "\n",
    "    # Append the statistics for the current ticker to the DataFrame\n",
    "    stats_df = stats_df.append(trades)\n",
    "\n",
    "\n",
    "\n",
    "    # Group by ticker and calculate mean and variance\n",
    "    ticker_stats = stats_df.groupby('Ticker').agg(\n",
    "    Mean_Win_Probability=pd.NamedAgg(column='Win_Probability', aggfunc='mean'),\n",
    "    Variance_Win_Probability=pd.NamedAgg(column='Win_Probability', aggfunc='var'),\n",
    "    Mean_Win_Size=pd.NamedAgg(column='Win_Size', aggfunc='mean'),\n",
    "    Variance_Win_Size=pd.NamedAgg(column='Win_Size', aggfunc='var'),\n",
    "    Mean_Loss_Size=pd.NamedAgg(column='Loss_Size', aggfunc='mean'),\n",
    "    Variance_Loss_Size=pd.NamedAgg(column='Loss_Size', aggfunc='var')\n",
    "    )\n",
    "\n",
    "\n",
    "# Print the updated results\n",
    "print(ticker_stats)\n",
    "\n"
   ]
  },
  {
   "attachments": {},
   "cell_type": "markdown",
   "metadata": {},
   "source": [
    "# Filtering Tickers with Inconsistent Results\n",
    "\n",
    "\n",
    "1. Set a consistency threshold for each metric.\n",
    "\n",
    "2. Filter out tickers that fail to meet the consistency threshold.\n",
    "\n",
    "3. Review and refine the remaining tickers based on additional criteria or preferences.\n"
   ]
  },
  {
   "cell_type": "code",
   "execution_count": 11,
   "metadata": {},
   "outputs": [
    {
     "name": "stdout",
     "output_type": "stream",
     "text": [
      "   Size  EntryBar  ExitBar  EntryPrice  ExitPrice        PnL  ReturnPct  EntryTime   ExitTime Duration\n",
      "0   181        24      230    55.11000      54.75  -65.16000  -0.006532 2018-11-12 2019-09-10 302 days\n",
      "1   116       704      755    85.05477      77.76 -846.19332  -0.085766 2021-07-28 2021-10-08  72 days\n"
     ]
    }
   ],
   "source": [
    "\n",
    "bt.plot()\n",
    "print(stats['_trades'].to_string())\n",
    "ecart_type_max_gain = 0.1\n",
    "ecart_type_max_loss = 0.1\n",
    "ecart_type_max_odd = 0.1"
   ]
  },
  {
   "attachments": {},
   "cell_type": "markdown",
   "metadata": {},
   "source": [
    "# Comparing with Unseen Data\n",
    "\n",
    "\n",
    "1. Compare strategy performance on the test set with backtest results.\n",
    "\n",
    "2. Analyze deviations and identify contributing factors.(COVID 19)\n",
    "\n",
    "3. Filter inconsistent Results\n",
    "\n"
   ]
  },
  {
   "cell_type": "code",
   "execution_count": null,
   "metadata": {},
   "outputs": [],
   "source": []
  },
  {
   "attachments": {},
   "cell_type": "markdown",
   "metadata": {},
   "source": [
    "# Kelly Criterion\n",
    "\n",
    "The Kelly Criterion is a risk management strategy used to determine the optimal capital allocation. Here's a simplified guide:\n",
    "\n",
    "1. Calculate the Kelly Criterion formula:\n",
    "   f* = (p * b - q) / b\n",
    "\n",
    "2. Estimate the probabilities of winning (p) and the net odds received upon winning (b).\n",
    "\n",
    "3. Calculate the optimal allocation using the formula.\n",
    "\n",
    "4. Assess risk and adjust the allocation if necessary.\n",
    "\n",
    "5. Monitor and update allocations based on performance and changing conditions.\n",
    "\n",
    "Note: Consider other factors and seek professional advice for a comprehensive understanding.\n",
    "\n"
   ]
  },
  {
   "cell_type": "code",
   "execution_count": 25,
   "metadata": {},
   "outputs": [
    {
     "data": {
      "text/plain": [
       "0.038461538461538526"
      ]
     },
     "execution_count": 25,
     "metadata": {},
     "output_type": "execute_result"
    }
   ],
   "source": [
    "win_probability= 0.5\n",
    "win_size=1.3\n",
    "loss_size=1.2\n",
    "if win_probability == 1.0:\n",
    "        kelly_fraction = 1\n",
    "elif win_probability == 0.0:\n",
    "        kelly_fraction = 0\n",
    "else:\n",
    "    p = win_probability\n",
    "    q = 1 - p\n",
    "    b = win_size / loss_size\n",
    "    kelly_fraction = (p * b - q) / b\n",
    "kelly_fraction"
   ]
  },
  {
   "cell_type": "markdown",
   "metadata": {},
   "source": [
    "# Aproximate error "
   ]
  }
 ],
 "metadata": {
  "kernelspec": {
   "display_name": "Python 3",
   "language": "python",
   "name": "python3"
  },
  "language_info": {
   "codemirror_mode": {
    "name": "ipython",
    "version": 3
   },
   "file_extension": ".py",
   "mimetype": "text/x-python",
   "name": "python",
   "nbconvert_exporter": "python",
   "pygments_lexer": "ipython3",
   "version": "3.9.13"
  },
  "vscode": {
   "interpreter": {
    "hash": "aee8b7b246df8f9039afb4144a1f6fd8d2ca17a180786b69acc140d282b71a49"
   }
  }
 },
 "nbformat": 4,
 "nbformat_minor": 2
}
