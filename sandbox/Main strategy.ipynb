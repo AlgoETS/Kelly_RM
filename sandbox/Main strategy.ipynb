{
 "cells": [
  {
   "attachments": {},
   "cell_type": "markdown",
   "metadata": {},
   "source": [
    "# 💡 STRATEGY\n",
    "\n",
    "Go To Kelly_game folder for additional information  \n",
    "\n",
    "[Guide backtesting](https://greyhoundanalytics.com/blog/backtestingpy-a-complete-quickstart-guide/)"
   ]
  },
  {
   "attachments": {},
   "cell_type": "markdown",
   "metadata": {},
   "source": [
    "# Install"
   ]
  },
  {
   "cell_type": "code",
   "execution_count": 1,
   "metadata": {},
   "outputs": [],
   "source": [
    "# import library\n",
    "from backtesting import Backtest\n",
    "import pandas as pd\n",
    "import numpy as np\n",
    "import seaborn as sns\n",
    "import matplotlib.pyplot as plt\n",
    "\n",
    "import sys\n",
    "\n",
    "sys.path.insert(0, 'C:/Users/Salim Hmidi/Documents/ALGO/Kelly_RM/')\n",
    "\n",
    "import src.data as data"
   ]
  },
  {
   "cell_type": "code",
   "execution_count": 2,
   "metadata": {},
   "outputs": [],
   "source": [
    "# import strategy\n",
    "from src.strategy import RsiOscillator"
   ]
  },
  {
   "attachments": {},
   "cell_type": "markdown",
   "metadata": {},
   "source": [
    "# Variable"
   ]
  },
  {
   "cell_type": "code",
   "execution_count": 6,
   "metadata": {},
   "outputs": [],
   "source": [
    "\n",
    "date_debut = '2018-01-01'\n",
    "date_fin = '2021-01-01'\n",
    "\n",
    "sp500 = pd.read_html('https://en.wikipedia.org/wiki/List_of_S%26P_500_companies')\n",
    "\n",
    "#tickers = np.array(sp500[0]['Symbol'])\n",
    "\n",
    "tickers ='AAL'\n",
    "\n",
    "strat = [RsiOscillator]\n",
    "\n",
    "\n",
    "df_traning =[]\n",
    "df_unsee =[]"
   ]
  },
  {
   "attachments": {},
   "cell_type": "markdown",
   "metadata": {},
   "source": [
    "## Load the prices"
   ]
  },
  {
   "cell_type": "code",
   "execution_count": 4,
   "metadata": {},
   "outputs": [],
   "source": [
    "\n",
    "\n",
    "#Get the list of symbols\n",
    "data_downloaded = await data.get_historical_price_full_crypto(tickers)\n",
    "historical=data_downloaded['historical']"
   ]
  },
  {
   "attachments": {},
   "cell_type": "markdown",
   "metadata": {},
   "source": [
    "## Preprocess the data used in the strategy"
   ]
  },
  {
   "cell_type": "code",
   "execution_count": 5,
   "metadata": {},
   "outputs": [
    {
     "data": {
      "text/html": [
       "<div>\n",
       "<style scoped>\n",
       "    .dataframe tbody tr th:only-of-type {\n",
       "        vertical-align: middle;\n",
       "    }\n",
       "\n",
       "    .dataframe tbody tr th {\n",
       "        vertical-align: top;\n",
       "    }\n",
       "\n",
       "    .dataframe thead th {\n",
       "        text-align: right;\n",
       "    }\n",
       "</style>\n",
       "<table border=\"1\" class=\"dataframe\">\n",
       "  <thead>\n",
       "    <tr style=\"text-align: right;\">\n",
       "      <th></th>\n",
       "      <th>Open</th>\n",
       "      <th>High</th>\n",
       "      <th>Low</th>\n",
       "      <th>Close</th>\n",
       "      <th>Volume</th>\n",
       "    </tr>\n",
       "    <tr>\n",
       "      <th>Date</th>\n",
       "      <th></th>\n",
       "      <th></th>\n",
       "      <th></th>\n",
       "      <th></th>\n",
       "      <th></th>\n",
       "    </tr>\n",
       "  </thead>\n",
       "  <tbody>\n",
       "    <tr>\n",
       "      <th>2018-07-06</th>\n",
       "      <td>38.19</td>\n",
       "      <td>38.3900</td>\n",
       "      <td>37.7600</td>\n",
       "      <td>38.090</td>\n",
       "      <td>3695004</td>\n",
       "    </tr>\n",
       "    <tr>\n",
       "      <th>2018-07-09</th>\n",
       "      <td>38.21</td>\n",
       "      <td>39.4100</td>\n",
       "      <td>38.0700</td>\n",
       "      <td>39.310</td>\n",
       "      <td>4530423</td>\n",
       "    </tr>\n",
       "    <tr>\n",
       "      <th>2018-07-10</th>\n",
       "      <td>39.38</td>\n",
       "      <td>39.4000</td>\n",
       "      <td>38.5000</td>\n",
       "      <td>39.120</td>\n",
       "      <td>4909957</td>\n",
       "    </tr>\n",
       "    <tr>\n",
       "      <th>2018-07-11</th>\n",
       "      <td>38.31</td>\n",
       "      <td>38.3400</td>\n",
       "      <td>35.9000</td>\n",
       "      <td>35.960</td>\n",
       "      <td>24894183</td>\n",
       "    </tr>\n",
       "    <tr>\n",
       "      <th>2018-07-12</th>\n",
       "      <td>36.40</td>\n",
       "      <td>36.7700</td>\n",
       "      <td>35.6400</td>\n",
       "      <td>36.330</td>\n",
       "      <td>12226590</td>\n",
       "    </tr>\n",
       "    <tr>\n",
       "      <th>...</th>\n",
       "      <td>...</td>\n",
       "      <td>...</td>\n",
       "      <td>...</td>\n",
       "      <td>...</td>\n",
       "      <td>...</td>\n",
       "    </tr>\n",
       "    <tr>\n",
       "      <th>2023-06-28</th>\n",
       "      <td>17.35</td>\n",
       "      <td>17.5775</td>\n",
       "      <td>17.2800</td>\n",
       "      <td>17.550</td>\n",
       "      <td>26466279</td>\n",
       "    </tr>\n",
       "    <tr>\n",
       "      <th>2023-06-29</th>\n",
       "      <td>17.64</td>\n",
       "      <td>17.9800</td>\n",
       "      <td>17.5300</td>\n",
       "      <td>17.600</td>\n",
       "      <td>20315698</td>\n",
       "    </tr>\n",
       "    <tr>\n",
       "      <th>2023-06-30</th>\n",
       "      <td>17.72</td>\n",
       "      <td>17.9900</td>\n",
       "      <td>17.6715</td>\n",
       "      <td>17.940</td>\n",
       "      <td>18610161</td>\n",
       "    </tr>\n",
       "    <tr>\n",
       "      <th>2023-07-03</th>\n",
       "      <td>17.86</td>\n",
       "      <td>18.1800</td>\n",
       "      <td>17.8200</td>\n",
       "      <td>18.100</td>\n",
       "      <td>12885775</td>\n",
       "    </tr>\n",
       "    <tr>\n",
       "      <th>2023-07-05</th>\n",
       "      <td>17.86</td>\n",
       "      <td>18.0650</td>\n",
       "      <td>17.8900</td>\n",
       "      <td>18.065</td>\n",
       "      <td>1600035</td>\n",
       "    </tr>\n",
       "  </tbody>\n",
       "</table>\n",
       "<p>1257 rows × 5 columns</p>\n",
       "</div>"
      ],
      "text/plain": [
       "             Open     High      Low   Close    Volume\n",
       "Date                                                 \n",
       "2018-07-06  38.19  38.3900  37.7600  38.090   3695004\n",
       "2018-07-09  38.21  39.4100  38.0700  39.310   4530423\n",
       "2018-07-10  39.38  39.4000  38.5000  39.120   4909957\n",
       "2018-07-11  38.31  38.3400  35.9000  35.960  24894183\n",
       "2018-07-12  36.40  36.7700  35.6400  36.330  12226590\n",
       "...           ...      ...      ...     ...       ...\n",
       "2023-06-28  17.35  17.5775  17.2800  17.550  26466279\n",
       "2023-06-29  17.64  17.9800  17.5300  17.600  20315698\n",
       "2023-06-30  17.72  17.9900  17.6715  17.940  18610161\n",
       "2023-07-03  17.86  18.1800  17.8200  18.100  12885775\n",
       "2023-07-05  17.86  18.0650  17.8900  18.065   1600035\n",
       "\n",
       "[1257 rows x 5 columns]"
      ]
     },
     "execution_count": 5,
     "metadata": {},
     "output_type": "execute_result"
    }
   ],
   "source": [
    "data = pd.DataFrame(historical)\n",
    "data.columns = [x.title() for x in data.columns] #uppercase first letter\n",
    "data.drop(['Adjclose','Unadjustedvolume', 'Change', 'Changepercent', 'Vwap', 'Label','Changeovertime'], axis=1,inplace=True)\n",
    "data['Date']=pd.to_datetime(data['Date'])\n",
    "data.set_index('Date',inplace=True) #date needs to be set as index!\n",
    "data=data.iloc[::-1] #to reverse the order of the dataframe\n",
    "data\n"
   ]
  },
  {
   "attachments": {},
   "cell_type": "markdown",
   "metadata": {},
   "source": [
    "# Divide Your Data into Two Sets\n",
    "\n",
    "- **Training Data**: This set is used for training the model and learning the underlying patterns in the data.\n",
    "\n",
    "- **Unseen Data**: This set, also known as the test or validation data, is held out from the training process.\n"
   ]
  },
  {
   "cell_type": "code",
   "execution_count": null,
   "metadata": {},
   "outputs": [],
   "source": []
  },
  {
   "attachments": {},
   "cell_type": "markdown",
   "metadata": {},
   "source": [
    "# Training and Optimizing Backtest Parameters\n",
    "\n",
    "1. Define the parameter space by listing the variables to optimize, such as indicators or thresholds, along with their potential values.\n",
    "\n",
    "2. Conduct backtests using different parameter combinations and evaluate performance using metrics like total return, Sharpe ratio, maximum drawdown, and win rate.\n",
    "\n",
    "3. Perform parameter optimization by identifying the parameter values that yield the best results using techniques like grid search or genetic algorithms.\n"
   ]
  },
  {
   "cell_type": "code",
   "execution_count": 13,
   "metadata": {},
   "outputs": [
    {
     "name": "stderr",
     "output_type": "stream",
     "text": [
      "c:\\Users\\Salim Hmidi\\ANAconda\\lib\\site-packages\\backtesting\\backtesting.py:1488: UserWarning: Searching for best of 22500 configurations.\n",
      "  output = _optimize_grid()\n"
     ]
    },
    {
     "data": {
      "application/vnd.jupyter.widget-view+json": {
       "model_id": "b67d55ad6e41462eb9bba00bd7e34db1",
       "version_major": 2,
       "version_minor": 0
      },
      "text/plain": [
       "  0%|          | 0/75 [00:00<?, ?it/s]"
      ]
     },
     "metadata": {},
     "output_type": "display_data"
    },
    {
     "data": {
      "image/png": "[encoded data removed]",
      "text/plain": [
       "<Figure size 640x480 with 2 Axes>"
      ]
     },
     "metadata": {},
     "output_type": "display_data"
    }
   ],
   "source": [
    "bt = Backtest(data, strat[0], cash=10_000, commission=.002)\n",
    "#bt = Backtest(df_trainnig, strat[0], cash=10_000, commission=.002)\n",
    "stats, heatmap = bt.optimize(\n",
    "        upper_bound = range(35,85,1),\n",
    "        lower_bound = range(15,60,1),\n",
    "        rsi_window = range(10,30,2),\n",
    "        maximize='Equity Final [$]',\n",
    "        return_heatmap=True)\n",
    "\n",
    "# choose your colormaps from here\n",
    "# https://matplotlib.org/stable/tutorials/colors/colormaps.html\n",
    "hm = heatmap.groupby([\"upper_bound\",\"lower_bound\"]).mean().unstack()\n",
    "sns.heatmap(hm, cmap=\"plasma\")\n",
    "plt.show()"
   ]
  },
  {
   "attachments": {},
   "cell_type": "markdown",
   "metadata": {},
   "source": [
    "# Filtering Tickers with Inconsistent Results\n",
    "\n",
    "\n",
    "1. Set a consistency threshold for each metric.\n",
    "\n",
    "2. Filter out tickers that fail to meet the consistency threshold.\n",
    "\n",
    "3. Review and refine the remaining tickers based on additional criteria or preferences.\n"
   ]
  },
  {
   "cell_type": "code",
   "execution_count": 17,
   "metadata": {},
   "outputs": [
    {
     "name": "stdout",
     "output_type": "stream",
     "text": [
      "    Size  EntryBar  ExitBar  EntryPrice  ExitPrice         PnL  ReturnPct  EntryTime   ExitTime Duration\n",
      "0    299        67       92    33.39666      38.00  1376.39866   0.137838 2018-10-10 2018-11-14  35 days\n",
      "1    376       119      141    30.18024      36.76  2473.98976   0.218015 2018-12-26 2019-01-29  34 days\n",
      "2    442       171      189    31.28244      33.64  1042.04152   0.075364 2019-03-13 2019-04-08  26 days\n",
      "3    499       221      236    29.78946      32.97  1587.08946   0.106767 2019-05-23 2019-06-14  22 days\n",
      "4    570       272      298    28.90770      29.67   434.51100   0.026370 2019-08-06 2019-09-12  37 days\n",
      "5    662       313      326    25.52094      28.50  1972.13772   0.116730 2019-10-03 2019-10-22  19 days\n",
      "6      1       435      482    13.22640      21.25     8.02360   0.606635 2020-03-30 2020-06-05  67 days\n",
      "7    799       412      482    23.61714      21.25 -1891.34486  -0.100230 2020-02-26 2020-06-05 100 days\n",
      "8    890       764      812    19.08810      21.77  2386.89100   0.140501 2021-07-20 2021-09-27  69 days\n",
      "9   1066       856      885    18.18630      19.24  1123.24420   0.057939 2021-11-29 2022-01-10  42 days\n",
      "10  1306       898      907    15.70134      18.42  3550.56996   0.173148 2022-01-28 2022-02-10  13 days\n",
      "11  1677       923      940    14.34864      17.92  5989.17072   0.248899 2022-03-07 2022-03-30  23 days\n",
      "12  2205       992     1036    13.62720      15.23  3534.17400   0.117618 2022-06-14 2022-08-17  64 days\n",
      "13  2749      1064     1081    12.21438      13.95  4771.21938   0.142096 2022-09-27 2022-10-20  23 days\n",
      "14  2794      1181     1225    13.72740      14.91  3304.18440   0.086149 2023-03-16 2023-05-18  63 days\n"
     ]
    }
   ],
   "source": [
    "\n",
    "bt.plot()\n",
    "print(stats['_trades'].to_string())"
   ]
  },
  {
   "attachments": {},
   "cell_type": "markdown",
   "metadata": {},
   "source": [
    "# Comparing with Unseen Data\n",
    "\n",
    "\n",
    "1. Compare strategy performance on the test set with backtest results.\n",
    "\n",
    "2. Analyze deviations and identify contributing factors.(COVID 19)\n",
    "\n",
    "3. Filter inconsistent Results\n",
    "\n"
   ]
  },
  {
   "cell_type": "code",
   "execution_count": null,
   "metadata": {},
   "outputs": [],
   "source": []
  },
  {
   "attachments": {},
   "cell_type": "markdown",
   "metadata": {},
   "source": [
    "# Estimating Odds of Win, Loss, and Gain\n",
    "\n",
    "\n",
    "\n",
    "\n",
    "\n",
    "\n",
    "\n",
    "\n",
    "\n",
    "\n",
    "\n"
   ]
  },
  {
   "cell_type": "code",
   "execution_count": null,
   "metadata": {},
   "outputs": [],
   "source": []
  },
  {
   "attachments": {},
   "cell_type": "markdown",
   "metadata": {},
   "source": [
    "# Kelly Criterion\n",
    "\n",
    "The Kelly Criterion is a risk management strategy used to determine the optimal capital allocation. Here's a simplified guide:\n",
    "\n",
    "1. Calculate the Kelly Criterion formula:\n",
    "   f* = (p * b - q) / b\n",
    "\n",
    "2. Estimate the probabilities of winning (p) and the net odds received upon winning (b).\n",
    "\n",
    "3. Calculate the optimal allocation using the formula.\n",
    "\n",
    "4. Assess risk and adjust the allocation if necessary.\n",
    "\n",
    "5. Monitor and update allocations based on performance and changing conditions.\n",
    "\n",
    "Note: Consider other factors and seek professional advice for a comprehensive understanding.\n",
    "\n"
   ]
  },
  {
   "cell_type": "code",
   "execution_count": null,
   "metadata": {},
   "outputs": [],
   "source": []
  }
 ],
 "metadata": {
  "kernelspec": {
   "display_name": "Python 3",
   "language": "python",
   "name": "python3"
  },
  "language_info": {
   "codemirror_mode": {
    "name": "ipython",
    "version": 3
   },
   "file_extension": ".py",
   "mimetype": "text/x-python",
   "name": "python",
   "nbconvert_exporter": "python",
   "pygments_lexer": "ipython3",
   "version": "3.9.13"
  },
  "vscode": {
   "interpreter": {
    "hash": "aee8b7b246df8f9039afb4144a1f6fd8d2ca17a180786b69acc140d282b71a49"
   }
  }
 },
 "nbformat": 4,
 "nbformat_minor": 2
}
